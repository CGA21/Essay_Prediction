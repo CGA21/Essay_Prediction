{
 "cells": [
  {
   "cell_type": "markdown",
   "metadata": {},
   "source": [
    "# Detect AI generated text using Naive Bayes Classification"
   ]
  },
  {
   "cell_type": "markdown",
   "metadata": {},
   "source": [
    "Import required libraries"
   ]
  },
  {
   "cell_type": "code",
   "execution_count": 1,
   "metadata": {},
   "outputs": [],
   "source": [
    "import pandas as pd\n",
    "import numpy as np\n",
    "import nltk\n",
    "from nltk.stem import WordNetLemmatizer"
   ]
  },
  {
   "cell_type": "code",
   "execution_count": 2,
   "metadata": {},
   "outputs": [
    {
     "data": {
      "text/html": [
       "<div>\n",
       "<style scoped>\n",
       "    .dataframe tbody tr th:only-of-type {\n",
       "        vertical-align: middle;\n",
       "    }\n",
       "\n",
       "    .dataframe tbody tr th {\n",
       "        vertical-align: top;\n",
       "    }\n",
       "\n",
       "    .dataframe thead th {\n",
       "        text-align: right;\n",
       "    }\n",
       "</style>\n",
       "<table border=\"1\" class=\"dataframe\">\n",
       "  <thead>\n",
       "    <tr style=\"text-align: right;\">\n",
       "      <th></th>\n",
       "      <th>id</th>\n",
       "      <th>prompt_id</th>\n",
       "      <th>text</th>\n",
       "      <th>generated</th>\n",
       "    </tr>\n",
       "  </thead>\n",
       "  <tbody>\n",
       "    <tr>\n",
       "      <th>0</th>\n",
       "      <td>0059830c</td>\n",
       "      <td>0</td>\n",
       "      <td>Cars. Cars have been around since they became ...</td>\n",
       "      <td>0</td>\n",
       "    </tr>\n",
       "    <tr>\n",
       "      <th>1</th>\n",
       "      <td>005db917</td>\n",
       "      <td>0</td>\n",
       "      <td>Transportation is a large necessity in most co...</td>\n",
       "      <td>0</td>\n",
       "    </tr>\n",
       "    <tr>\n",
       "      <th>2</th>\n",
       "      <td>008f63e3</td>\n",
       "      <td>0</td>\n",
       "      <td>\"America's love affair with it's vehicles seem...</td>\n",
       "      <td>0</td>\n",
       "    </tr>\n",
       "    <tr>\n",
       "      <th>3</th>\n",
       "      <td>940276</td>\n",
       "      <td>0</td>\n",
       "      <td>How often do you ride in a car? Do you drive a...</td>\n",
       "      <td>0</td>\n",
       "    </tr>\n",
       "    <tr>\n",
       "      <th>4</th>\n",
       "      <td>00c39458</td>\n",
       "      <td>0</td>\n",
       "      <td>Cars are a wonderful thing. They are perhaps o...</td>\n",
       "      <td>0</td>\n",
       "    </tr>\n",
       "    <tr>\n",
       "      <th>...</th>\n",
       "      <td>...</td>\n",
       "      <td>...</td>\n",
       "      <td>...</td>\n",
       "      <td>...</td>\n",
       "    </tr>\n",
       "    <tr>\n",
       "      <th>1383</th>\n",
       "      <td>86hfhd2</td>\n",
       "      <td>1</td>\n",
       "      <td>I am writing to express my perspective on the ...</td>\n",
       "      <td>1</td>\n",
       "    </tr>\n",
       "    <tr>\n",
       "      <th>1384</th>\n",
       "      <td>970wesgs</td>\n",
       "      <td>1</td>\n",
       "      <td>I hope this letter finds you well. I am writin...</td>\n",
       "      <td>1</td>\n",
       "    </tr>\n",
       "    <tr>\n",
       "      <th>1385</th>\n",
       "      <td>9831fsdga1</td>\n",
       "      <td>1</td>\n",
       "      <td>I trust this letter reaches you in good health...</td>\n",
       "      <td>1</td>\n",
       "    </tr>\n",
       "    <tr>\n",
       "      <th>1386</th>\n",
       "      <td>983495erg</td>\n",
       "      <td>1</td>\n",
       "      <td>I hope this letter reaches you in good health ...</td>\n",
       "      <td>1</td>\n",
       "    </tr>\n",
       "    <tr>\n",
       "      <th>1387</th>\n",
       "      <td>6924095ger</td>\n",
       "      <td>1</td>\n",
       "      <td>I hope this letter finds you well and thriving...</td>\n",
       "      <td>1</td>\n",
       "    </tr>\n",
       "  </tbody>\n",
       "</table>\n",
       "<p>1388 rows × 4 columns</p>\n",
       "</div>"
      ],
      "text/plain": [
       "              id  prompt_id  \\\n",
       "0       0059830c          0   \n",
       "1       005db917          0   \n",
       "2       008f63e3          0   \n",
       "3         940276          0   \n",
       "4       00c39458          0   \n",
       "...          ...        ...   \n",
       "1383     86hfhd2          1   \n",
       "1384    970wesgs          1   \n",
       "1385  9831fsdga1          1   \n",
       "1386   983495erg          1   \n",
       "1387  6924095ger          1   \n",
       "\n",
       "                                                   text  generated  \n",
       "0     Cars. Cars have been around since they became ...          0  \n",
       "1     Transportation is a large necessity in most co...          0  \n",
       "2     \"America's love affair with it's vehicles seem...          0  \n",
       "3     How often do you ride in a car? Do you drive a...          0  \n",
       "4     Cars are a wonderful thing. They are perhaps o...          0  \n",
       "...                                                 ...        ...  \n",
       "1383  I am writing to express my perspective on the ...          1  \n",
       "1384  I hope this letter finds you well. I am writin...          1  \n",
       "1385  I trust this letter reaches you in good health...          1  \n",
       "1386  I hope this letter reaches you in good health ...          1  \n",
       "1387  I hope this letter finds you well and thriving...          1  \n",
       "\n",
       "[1388 rows x 4 columns]"
      ]
     },
     "execution_count": 2,
     "metadata": {},
     "output_type": "execute_result"
    }
   ],
   "source": [
    "training_data = pd.read_csv('train_essays.csv')\n",
    "training_data"
   ]
  },
  {
   "cell_type": "code",
   "execution_count": 3,
   "metadata": {},
   "outputs": [
    {
     "data": {
      "text/html": [
       "<div>\n",
       "<style scoped>\n",
       "    .dataframe tbody tr th:only-of-type {\n",
       "        vertical-align: middle;\n",
       "    }\n",
       "\n",
       "    .dataframe tbody tr th {\n",
       "        vertical-align: top;\n",
       "    }\n",
       "\n",
       "    .dataframe thead th {\n",
       "        text-align: right;\n",
       "    }\n",
       "</style>\n",
       "<table border=\"1\" class=\"dataframe\">\n",
       "  <thead>\n",
       "    <tr style=\"text-align: right;\">\n",
       "      <th></th>\n",
       "      <th>prompt_id</th>\n",
       "      <th>prompt_name</th>\n",
       "      <th>instructions</th>\n",
       "      <th>source_text</th>\n",
       "    </tr>\n",
       "  </thead>\n",
       "  <tbody>\n",
       "    <tr>\n",
       "      <th>0</th>\n",
       "      <td>0</td>\n",
       "      <td>Car-free cities</td>\n",
       "      <td>Write an explanatory essay to inform fellow ci...</td>\n",
       "      <td># In German Suburb, Life Goes On Without Cars ...</td>\n",
       "    </tr>\n",
       "    <tr>\n",
       "      <th>1</th>\n",
       "      <td>1</td>\n",
       "      <td>Does the electoral college work?</td>\n",
       "      <td>Write a letter to your state senator in which ...</td>\n",
       "      <td># What Is the Electoral College? by the Office...</td>\n",
       "    </tr>\n",
       "  </tbody>\n",
       "</table>\n",
       "</div>"
      ],
      "text/plain": [
       "   prompt_id                       prompt_name  \\\n",
       "0          0                   Car-free cities   \n",
       "1          1  Does the electoral college work?   \n",
       "\n",
       "                                        instructions  \\\n",
       "0  Write an explanatory essay to inform fellow ci...   \n",
       "1  Write a letter to your state senator in which ...   \n",
       "\n",
       "                                         source_text  \n",
       "0  # In German Suburb, Life Goes On Without Cars ...  \n",
       "1  # What Is the Electoral College? by the Office...  "
      ]
     },
     "execution_count": 3,
     "metadata": {},
     "output_type": "execute_result"
    }
   ],
   "source": [
    "prompt_data = pd.read_csv('train_prompts.csv')\n",
    "prompt_data.head()"
   ]
  },
  {
   "cell_type": "code",
   "execution_count": 4,
   "metadata": {},
   "outputs": [
    {
     "data": {
      "text/html": [
       "<div>\n",
       "<style scoped>\n",
       "    .dataframe tbody tr th:only-of-type {\n",
       "        vertical-align: middle;\n",
       "    }\n",
       "\n",
       "    .dataframe tbody tr th {\n",
       "        vertical-align: top;\n",
       "    }\n",
       "\n",
       "    .dataframe thead th {\n",
       "        text-align: right;\n",
       "    }\n",
       "</style>\n",
       "<table border=\"1\" class=\"dataframe\">\n",
       "  <thead>\n",
       "    <tr style=\"text-align: right;\">\n",
       "      <th></th>\n",
       "      <th>id</th>\n",
       "      <th>prompt_id</th>\n",
       "      <th>text</th>\n",
       "    </tr>\n",
       "  </thead>\n",
       "  <tbody>\n",
       "    <tr>\n",
       "      <th>0</th>\n",
       "      <td>0000aaaa</td>\n",
       "      <td>2</td>\n",
       "      <td>Aaa bbb ccc.</td>\n",
       "    </tr>\n",
       "    <tr>\n",
       "      <th>1</th>\n",
       "      <td>1111bbbb</td>\n",
       "      <td>3</td>\n",
       "      <td>Bbb ccc ddd.</td>\n",
       "    </tr>\n",
       "    <tr>\n",
       "      <th>2</th>\n",
       "      <td>2222cccc</td>\n",
       "      <td>4</td>\n",
       "      <td>CCC ddd eee.</td>\n",
       "    </tr>\n",
       "  </tbody>\n",
       "</table>\n",
       "</div>"
      ],
      "text/plain": [
       "         id  prompt_id          text\n",
       "0  0000aaaa          2  Aaa bbb ccc.\n",
       "1  1111bbbb          3  Bbb ccc ddd.\n",
       "2  2222cccc          4  CCC ddd eee."
      ]
     },
     "execution_count": 4,
     "metadata": {},
     "output_type": "execute_result"
    }
   ],
   "source": [
    "testing_data = pd.read_csv('test_essays.csv')\n",
    "testing_data.head()"
   ]
  },
  {
   "cell_type": "code",
   "execution_count": 23,
   "metadata": {},
   "outputs": [],
   "source": [
    "### HYPER PARAMETERS ###\n",
    "vocabulary = ['the','in','is','and','me','I','but','has','not']\n",
    "min_freq_threshold = [20,10,10,10,5,6,5,5,3]"
   ]
  },
  {
   "cell_type": "code",
   "execution_count": 24,
   "metadata": {},
   "outputs": [],
   "source": [
    "def word_probability(essay):\n",
    "    words = nltk.word_tokenize(essay)\n",
    "    frequency_distribution = nltk.FreqDist(words)\n",
    "    probability_dict={}\n",
    "    for word in vocabulary:\n",
    "        probability_dict[word] = [frequency_distribution[word]]\n",
    "\n",
    "    #tagged_words = nltk.pos_tag(words)\n",
    "    #errors = [word for word, tag in tagged_words if tag == 'VBZ' or tag == 'VBP']\n",
    "    ### return human error probability ###\n",
    "    return probability_dict"
   ]
  },
  {
   "cell_type": "code",
   "execution_count": 25,
   "metadata": {},
   "outputs": [],
   "source": [
    "def convert_essays_to_frequency(df):\n",
    "    prob_df = pd.DataFrame(columns=vocabulary)\n",
    "    \n",
    "    training =(True if 'generated' in list(df.columns) else False)\n",
    "    \n",
    "    for index,row in df.iterrows():\n",
    "        P = word_probability(row['text']) \n",
    "        if training: \n",
    "            P['generated'] = int(row['generated'])\n",
    "        prob_df = pd.concat([prob_df,pd.DataFrame(P)],ignore_index=True)\n",
    "    return prob_df"
   ]
  },
  {
   "cell_type": "code",
   "execution_count": 26,
   "metadata": {},
   "outputs": [],
   "source": [
    "def get_probabilities(raw_data):\n",
    "    df = convert_essays_to_frequency(raw_data)\n",
    "    columns = list(df.columns)\n",
    "    columns.remove('generated')\n",
    "    probs = {}\n",
    "    probs_llm = {}\n",
    "    for i in columns:\n",
    "        probs[i]=0\n",
    "        probs_llm[i]=0\n",
    "    for index,row in df.iterrows():\n",
    "        for i in columns:\n",
    "            if row[i] >=min_freq_threshold[columns.index(i)]:\n",
    "                if i in probs.keys():\n",
    "                    probs[i]+=1\n",
    "                if not row['generated']:\n",
    "                    if i in probs_llm.keys():\n",
    "                        probs_llm[i]+=1\n",
    "    P_llm = len(df[df['generated']==1])/len(df.index)\n",
    "    for key,val in probs.items():\n",
    "        probs[key] = val/len(df.index)\n",
    "    for key,val in probs_llm.items():\n",
    "        probs_llm[key] = val/len(df.index)\n",
    "    return probs,probs_llm,P_llm"
   ]
  },
  {
   "cell_type": "code",
   "execution_count": 27,
   "metadata": {},
   "outputs": [],
   "source": [
    "def NBC(raw_data):\n",
    "    probs_indv,probs_llm,P_L = get_probabilities(raw_data)\n",
    "    P_V = 1\n",
    "    P_V_L = 1\n",
    "    for key,val in probs_indv.items():\n",
    "        P_V*=val\n",
    "        P_V_L*=probs_llm[key]\n",
    "    P = (P_V_L * P_L)/P_V\n",
    "    #return Bayesian prob, individual probs product, individual prob dictionary, individual prob given generated product, individual prob given generated dictionary, prob of generated\n",
    "    return P,P_V,probs_indv,P_V_L,probs_llm,P_L"
   ]
  },
  {
   "cell_type": "code",
   "execution_count": 28,
   "metadata": {},
   "outputs": [
    {
     "name": "stdout",
     "output_type": "stream",
     "text": [
      "(0.00916839642922549, 4.3142550815283406e-08, {'the': 0.803314121037464, 'in': 0.4675792507204611, 'is': 0.43515850144092216, 'and': 0.6102305475504323, 'me': 0.0007204610951008645, 'I': 0.06484149855907781, 'but': 0.11311239193083573, 'has': 0.12896253602305474, 'not': 0.6347262247838616}, 4.2232356636417144e-08, {'the': 0.7989913544668588, 'in': 0.46397694524495675, 'is': 0.43515850144092216, 'and': 0.6066282420749279, 'me': 0.0007204610951008645, 'I': 0.06484149855907781, 'but': 0.11311239193083573, 'has': 0.12896253602305474, 'not': 0.6332853025936599}, 0.009365994236311239)\n"
     ]
    }
   ],
   "source": [
    "print(NBC(training_data))"
   ]
  },
  {
   "cell_type": "code",
   "execution_count": null,
   "metadata": {},
   "outputs": [],
   "source": []
  }
 ],
 "metadata": {
  "kernelspec": {
   "display_name": "Python 3",
   "language": "python",
   "name": "python3"
  },
  "language_info": {
   "codemirror_mode": {
    "name": "ipython",
    "version": 3
   },
   "file_extension": ".py",
   "mimetype": "text/x-python",
   "name": "python",
   "nbconvert_exporter": "python",
   "pygments_lexer": "ipython3",
   "version": "3.8.3"
  }
 },
 "nbformat": 4,
 "nbformat_minor": 4
}
