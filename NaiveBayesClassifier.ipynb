{
 "cells": [
  {
   "cell_type": "markdown",
   "metadata": {},
   "source": [
    "# Detect AI generated text using Naive Bayes Classification"
   ]
  },
  {
   "cell_type": "markdown",
   "metadata": {},
   "source": [
    "Import required libraries"
   ]
  },
  {
   "cell_type": "code",
   "execution_count": 2,
   "metadata": {},
   "outputs": [],
   "source": [
    "import pandas as pd\n",
    "import numpy as np\n",
    "import nltk\n",
    "from nltk.stem import WordNetLemmatizer\n",
    "import seaborn as sns\n",
    "import matplotlib.pyplot as plt"
   ]
  },
  {
   "cell_type": "code",
   "execution_count": 3,
   "metadata": {},
   "outputs": [
    {
     "data": {
      "text/html": [
       "<div>\n",
       "<style scoped>\n",
       "    .dataframe tbody tr th:only-of-type {\n",
       "        vertical-align: middle;\n",
       "    }\n",
       "\n",
       "    .dataframe tbody tr th {\n",
       "        vertical-align: top;\n",
       "    }\n",
       "\n",
       "    .dataframe thead th {\n",
       "        text-align: right;\n",
       "    }\n",
       "</style>\n",
       "<table border=\"1\" class=\"dataframe\">\n",
       "  <thead>\n",
       "    <tr style=\"text-align: right;\">\n",
       "      <th></th>\n",
       "      <th>id</th>\n",
       "      <th>prompt_id</th>\n",
       "      <th>text</th>\n",
       "      <th>generated</th>\n",
       "    </tr>\n",
       "  </thead>\n",
       "  <tbody>\n",
       "    <tr>\n",
       "      <th>0</th>\n",
       "      <td>0059830c</td>\n",
       "      <td>0</td>\n",
       "      <td>Cars. Cars have been around since they became ...</td>\n",
       "      <td>0</td>\n",
       "    </tr>\n",
       "    <tr>\n",
       "      <th>1</th>\n",
       "      <td>005db917</td>\n",
       "      <td>0</td>\n",
       "      <td>Transportation is a large necessity in most co...</td>\n",
       "      <td>0</td>\n",
       "    </tr>\n",
       "    <tr>\n",
       "      <th>2</th>\n",
       "      <td>008f63e3</td>\n",
       "      <td>0</td>\n",
       "      <td>\"America's love affair with it's vehicles seem...</td>\n",
       "      <td>0</td>\n",
       "    </tr>\n",
       "    <tr>\n",
       "      <th>3</th>\n",
       "      <td>940276</td>\n",
       "      <td>0</td>\n",
       "      <td>How often do you ride in a car? Do you drive a...</td>\n",
       "      <td>0</td>\n",
       "    </tr>\n",
       "    <tr>\n",
       "      <th>4</th>\n",
       "      <td>00c39458</td>\n",
       "      <td>0</td>\n",
       "      <td>Cars are a wonderful thing. They are perhaps o...</td>\n",
       "      <td>0</td>\n",
       "    </tr>\n",
       "    <tr>\n",
       "      <th>...</th>\n",
       "      <td>...</td>\n",
       "      <td>...</td>\n",
       "      <td>...</td>\n",
       "      <td>...</td>\n",
       "    </tr>\n",
       "    <tr>\n",
       "      <th>1383</th>\n",
       "      <td>86hfhd2</td>\n",
       "      <td>1</td>\n",
       "      <td>I am writing to express my perspective on the ...</td>\n",
       "      <td>1</td>\n",
       "    </tr>\n",
       "    <tr>\n",
       "      <th>1384</th>\n",
       "      <td>970wesgs</td>\n",
       "      <td>1</td>\n",
       "      <td>I hope this letter finds you well. I am writin...</td>\n",
       "      <td>1</td>\n",
       "    </tr>\n",
       "    <tr>\n",
       "      <th>1385</th>\n",
       "      <td>9831fsdga1</td>\n",
       "      <td>1</td>\n",
       "      <td>I trust this letter reaches you in good health...</td>\n",
       "      <td>1</td>\n",
       "    </tr>\n",
       "    <tr>\n",
       "      <th>1386</th>\n",
       "      <td>983495erg</td>\n",
       "      <td>1</td>\n",
       "      <td>I hope this letter reaches you in good health ...</td>\n",
       "      <td>1</td>\n",
       "    </tr>\n",
       "    <tr>\n",
       "      <th>1387</th>\n",
       "      <td>6924095ger</td>\n",
       "      <td>1</td>\n",
       "      <td>I hope this letter finds you well and thriving...</td>\n",
       "      <td>1</td>\n",
       "    </tr>\n",
       "  </tbody>\n",
       "</table>\n",
       "<p>1388 rows × 4 columns</p>\n",
       "</div>"
      ],
      "text/plain": [
       "              id  prompt_id  \\\n",
       "0       0059830c          0   \n",
       "1       005db917          0   \n",
       "2       008f63e3          0   \n",
       "3         940276          0   \n",
       "4       00c39458          0   \n",
       "...          ...        ...   \n",
       "1383     86hfhd2          1   \n",
       "1384    970wesgs          1   \n",
       "1385  9831fsdga1          1   \n",
       "1386   983495erg          1   \n",
       "1387  6924095ger          1   \n",
       "\n",
       "                                                   text  generated  \n",
       "0     Cars. Cars have been around since they became ...          0  \n",
       "1     Transportation is a large necessity in most co...          0  \n",
       "2     \"America's love affair with it's vehicles seem...          0  \n",
       "3     How often do you ride in a car? Do you drive a...          0  \n",
       "4     Cars are a wonderful thing. They are perhaps o...          0  \n",
       "...                                                 ...        ...  \n",
       "1383  I am writing to express my perspective on the ...          1  \n",
       "1384  I hope this letter finds you well. I am writin...          1  \n",
       "1385  I trust this letter reaches you in good health...          1  \n",
       "1386  I hope this letter reaches you in good health ...          1  \n",
       "1387  I hope this letter finds you well and thriving...          1  \n",
       "\n",
       "[1388 rows x 4 columns]"
      ]
     },
     "execution_count": 3,
     "metadata": {},
     "output_type": "execute_result"
    }
   ],
   "source": [
    "training_data = pd.read_csv('train_essays.csv')\n",
    "training_data"
   ]
  },
  {
   "cell_type": "code",
   "execution_count": 4,
   "metadata": {},
   "outputs": [
    {
     "data": {
      "text/html": [
       "<div>\n",
       "<style scoped>\n",
       "    .dataframe tbody tr th:only-of-type {\n",
       "        vertical-align: middle;\n",
       "    }\n",
       "\n",
       "    .dataframe tbody tr th {\n",
       "        vertical-align: top;\n",
       "    }\n",
       "\n",
       "    .dataframe thead th {\n",
       "        text-align: right;\n",
       "    }\n",
       "</style>\n",
       "<table border=\"1\" class=\"dataframe\">\n",
       "  <thead>\n",
       "    <tr style=\"text-align: right;\">\n",
       "      <th></th>\n",
       "      <th>prompt_id</th>\n",
       "      <th>prompt_name</th>\n",
       "      <th>instructions</th>\n",
       "      <th>source_text</th>\n",
       "    </tr>\n",
       "  </thead>\n",
       "  <tbody>\n",
       "    <tr>\n",
       "      <th>0</th>\n",
       "      <td>0</td>\n",
       "      <td>Car-free cities</td>\n",
       "      <td>Write an explanatory essay to inform fellow ci...</td>\n",
       "      <td># In German Suburb, Life Goes On Without Cars ...</td>\n",
       "    </tr>\n",
       "    <tr>\n",
       "      <th>1</th>\n",
       "      <td>1</td>\n",
       "      <td>Does the electoral college work?</td>\n",
       "      <td>Write a letter to your state senator in which ...</td>\n",
       "      <td># What Is the Electoral College? by the Office...</td>\n",
       "    </tr>\n",
       "  </tbody>\n",
       "</table>\n",
       "</div>"
      ],
      "text/plain": [
       "   prompt_id                       prompt_name  \\\n",
       "0          0                   Car-free cities   \n",
       "1          1  Does the electoral college work?   \n",
       "\n",
       "                                        instructions  \\\n",
       "0  Write an explanatory essay to inform fellow ci...   \n",
       "1  Write a letter to your state senator in which ...   \n",
       "\n",
       "                                         source_text  \n",
       "0  # In German Suburb, Life Goes On Without Cars ...  \n",
       "1  # What Is the Electoral College? by the Office...  "
      ]
     },
     "execution_count": 4,
     "metadata": {},
     "output_type": "execute_result"
    }
   ],
   "source": [
    "prompt_data = pd.read_csv('train_prompts.csv')\n",
    "prompt_data.head()"
   ]
  },
  {
   "cell_type": "code",
   "execution_count": 5,
   "metadata": {},
   "outputs": [
    {
     "data": {
      "text/html": [
       "<div>\n",
       "<style scoped>\n",
       "    .dataframe tbody tr th:only-of-type {\n",
       "        vertical-align: middle;\n",
       "    }\n",
       "\n",
       "    .dataframe tbody tr th {\n",
       "        vertical-align: top;\n",
       "    }\n",
       "\n",
       "    .dataframe thead th {\n",
       "        text-align: right;\n",
       "    }\n",
       "</style>\n",
       "<table border=\"1\" class=\"dataframe\">\n",
       "  <thead>\n",
       "    <tr style=\"text-align: right;\">\n",
       "      <th></th>\n",
       "      <th>id</th>\n",
       "      <th>prompt_id</th>\n",
       "      <th>text</th>\n",
       "    </tr>\n",
       "  </thead>\n",
       "  <tbody>\n",
       "    <tr>\n",
       "      <th>0</th>\n",
       "      <td>0000aaaa</td>\n",
       "      <td>2</td>\n",
       "      <td>Aaa bbb ccc.</td>\n",
       "    </tr>\n",
       "    <tr>\n",
       "      <th>1</th>\n",
       "      <td>1111bbbb</td>\n",
       "      <td>3</td>\n",
       "      <td>Bbb ccc ddd.</td>\n",
       "    </tr>\n",
       "    <tr>\n",
       "      <th>2</th>\n",
       "      <td>2222cccc</td>\n",
       "      <td>4</td>\n",
       "      <td>CCC ddd eee.</td>\n",
       "    </tr>\n",
       "    <tr>\n",
       "      <th>3</th>\n",
       "      <td>3452ffdsdd</td>\n",
       "      <td>5</td>\n",
       "      <td>I trust this letter finds you well and engaged...</td>\n",
       "    </tr>\n",
       "  </tbody>\n",
       "</table>\n",
       "</div>"
      ],
      "text/plain": [
       "           id  prompt_id                                               text\n",
       "0    0000aaaa          2                                       Aaa bbb ccc.\n",
       "1    1111bbbb          3                                       Bbb ccc ddd.\n",
       "2    2222cccc          4                                       CCC ddd eee.\n",
       "3  3452ffdsdd          5  I trust this letter finds you well and engaged..."
      ]
     },
     "execution_count": 5,
     "metadata": {},
     "output_type": "execute_result"
    }
   ],
   "source": [
    "testing_data = pd.read_csv('test_essays.csv')\n",
    "testing_data"
   ]
  },
  {
   "cell_type": "code",
   "execution_count": 24,
   "metadata": {},
   "outputs": [],
   "source": [
    "class NBC:\n",
    "    def __init__(self,data,min_threshold):\n",
    "        \n",
    "        words = {}\n",
    "        words_dep = {}\n",
    "        \n",
    "        ### count number of essays containing specific words ###\n",
    "        for index,row in data.iterrows():\n",
    "            ws = nltk.word_tokenize(row['text'])\n",
    "            word_freq = nltk.FreqDist(ws)\n",
    "            #word_freq = convert_essay_to_freq(row['essay'])\n",
    "            for key,val in word_freq.items():\n",
    "                if key in words.keys():words[key]+=1\n",
    "                else:words[key]=1\n",
    "                if key in words_dep.keys() and row['generated']:words_dep[key]+=1\n",
    "                else:words_dep[key]=0\n",
    "                    \n",
    "        ### Store all values in model ###\n",
    "        self.__threshold = min_threshold\n",
    "        self.__N = len(data)\n",
    "        self.__gen = len(data[data['generated']==1])\n",
    "        self.__words = words\n",
    "        self.__wordsgen = words_dep\n",
    "        \n",
    "    \n",
    "    def predict(self,essay):\n",
    "        ws = nltk.word_tokenize(row['text'])\n",
    "        word_freq = nltk.FreqDist(ws)\n",
    "        \n",
    "        pw = 1\n",
    "        pwg = 1\n",
    "        total = self.__N\n",
    "        gen = self.__gen\n",
    "        \n",
    "        ### apply softening where P can be 0 ###\n",
    "        for key in word_freq.keys():\n",
    "            if key in self.__words.keys():\n",
    "                if self.__words[key]<=0:\n",
    "                    total+=1\n",
    "                    self.__words[key]+=1\n",
    "                if self.__wordsgen[key]<=0:\n",
    "                    gen+=1\n",
    "                    self.__wordsgen[key]+=1\n",
    "        \n",
    "        ## calculate probabilities ###\n",
    "        for key,val in word_freq.items():\n",
    "            if val >= self.__threshold and key in self.__words.keys():\n",
    "                pw *= self.__words[key]/total\n",
    "                pwg*= self.__wordsgen[key]/gen\n",
    "        \n",
    "        return (pwg*(self.__gen/self.__N))/pw\n",
    "    \n",
    "    def plot_data(self):\n",
    "        plt.bar(range(len(self.__words)), list(self.__words.values()))\n",
    "        plt.bar(range(len(self.__wordsgen)), list(self.__wordsgen.values()))\n",
    "        plt.show()"
   ]
  },
  {
   "cell_type": "code",
   "execution_count": 25,
   "metadata": {},
   "outputs": [],
   "source": [
    "model = NBC(training_data,2)"
   ]
  },
  {
   "cell_type": "code",
   "execution_count": 26,
   "metadata": {},
   "outputs": [
    {
     "data": {
      "image/png": "[encoded data removed]",
      "text/plain": [
       "<Figure size 432x288 with 1 Axes>"
      ]
     },
     "metadata": {
      "needs_background": "light"
     },
     "output_type": "display_data"
    }
   ],
   "source": [
    "model.plot_data()"
   ]
  },
  {
   "cell_type": "code",
   "execution_count": 27,
   "metadata": {},
   "outputs": [
    {
     "data": {
      "text/html": [
       "<div>\n",
       "<style scoped>\n",
       "    .dataframe tbody tr th:only-of-type {\n",
       "        vertical-align: middle;\n",
       "    }\n",
       "\n",
       "    .dataframe tbody tr th {\n",
       "        vertical-align: top;\n",
       "    }\n",
       "\n",
       "    .dataframe thead th {\n",
       "        text-align: right;\n",
       "    }\n",
       "</style>\n",
       "<table border=\"1\" class=\"dataframe\">\n",
       "  <thead>\n",
       "    <tr style=\"text-align: right;\">\n",
       "      <th></th>\n",
       "      <th>id</th>\n",
       "      <th>generated</th>\n",
       "    </tr>\n",
       "  </thead>\n",
       "  <tbody>\n",
       "    <tr>\n",
       "      <th>0</th>\n",
       "      <td>0000aaaa</td>\n",
       "      <td>9.365994e-03</td>\n",
       "    </tr>\n",
       "    <tr>\n",
       "      <th>1</th>\n",
       "      <td>1111bbbb</td>\n",
       "      <td>9.365994e-03</td>\n",
       "    </tr>\n",
       "    <tr>\n",
       "      <th>2</th>\n",
       "      <td>2222cccc</td>\n",
       "      <td>9.365994e-03</td>\n",
       "    </tr>\n",
       "    <tr>\n",
       "      <th>3</th>\n",
       "      <td>3452ffdsdd</td>\n",
       "      <td>7.485547e-08</td>\n",
       "    </tr>\n",
       "  </tbody>\n",
       "</table>\n",
       "</div>"
      ],
      "text/plain": [
       "           id     generated\n",
       "0    0000aaaa  9.365994e-03\n",
       "1    1111bbbb  9.365994e-03\n",
       "2    2222cccc  9.365994e-03\n",
       "3  3452ffdsdd  7.485547e-08"
      ]
     },
     "execution_count": 27,
     "metadata": {},
     "output_type": "execute_result"
    }
   ],
   "source": [
    "final_dt = pd.DataFrame([],columns=['id','generated'])\n",
    "for index,row in testing_data.iterrows():\n",
    "    final_dt.loc[len(final_dt)]={'id':row['id'],'generated':model.predict(row['text'])}\n",
    "final_dt.head()"
   ]
  },
  {
   "cell_type": "code",
   "execution_count": 28,
   "metadata": {},
   "outputs": [],
   "source": [
    "final_dt.to_csv('submission.csv',index=False)"
   ]
  },
  {
   "cell_type": "code",
   "execution_count": null,
   "metadata": {},
   "outputs": [],
   "source": []
  }
 ],
 "metadata": {
  "kernelspec": {
   "display_name": "Python 3",
   "language": "python",
   "name": "python3"
  },
  "language_info": {
   "codemirror_mode": {
    "name": "ipython",
    "version": 3
   },
   "file_extension": ".py",
   "mimetype": "text/x-python",
   "name": "python",
   "nbconvert_exporter": "python",
   "pygments_lexer": "ipython3",
   "version": "3.8.3"
  }
 },
 "nbformat": 4,
 "nbformat_minor": 4
}
